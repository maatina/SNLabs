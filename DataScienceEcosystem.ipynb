{
  "metadata": {
    "kernelspec": {
      "name": "python",
      "display_name": "Python (Pyodide)",
      "language": "python"
    },
    "language_info": {
      "codemirror_mode": {
        "name": "python",
        "version": 3
      },
      "file_extension": ".py",
      "mimetype": "text/x-python",
      "name": "python",
      "nbconvert_exporter": "python",
      "pygments_lexer": "ipython3",
      "version": "3.8"
    }
  },
  "nbformat_minor": 5,
  "nbformat": 4,
  "cells": [
    {
      "id": "00a81b00-3c8e-4ec2-8740-f031f43849aa",
      "cell_type": "markdown",
      "source": "# Data Science Tools and Ecosystem",
      "metadata": {}
    },
    {
      "id": "a675a50c-f9ae-4090-aef4-44c4b1cf6fbd",
      "cell_type": "markdown",
      "source": "## In this notebook, Data Science Tools and Ecosystem are summarized.",
      "metadata": {}
    },
    {
      "id": "27b606f2-714c-4372-97bb-26c191f4c960",
      "cell_type": "markdown",
      "source": "**Objectives:**\n* Python\n* R\n* Sql\n* Java\n* Julia",
      "metadata": {}
    },
    {
      "id": "8e1eb8da-463b-4036-a258-dbbfde87c3d9",
      "cell_type": "markdown",
      "source": "# Some of the popular languages that Data Scientists use are:\n1. Python\n2. R\n3. Sql\n4. Java\n5. Julia",
      "metadata": {}
    },
    {
      "id": "a7eee752-f89a-4141-9fad-259b9dcbdef9",
      "cell_type": "markdown",
      "source": "# Some of the commonly used libraries used by Data Scientists include:\n1. Numpy\n2. pandas\n3. PyTorch\n4. scikit-learn\n5. Tensorflow\n6. Seaborn\n7. Matplotlib",
      "metadata": {}
    },
    {
      "id": "7af29384-2d61-459f-b5d2-6de45f5306ac",
      "cell_type": "markdown",
      "source": "| Data Science Tools |\n|--------------------|\n| Jupyter Notebook    |\n| R Studio     |\n| Apache Zeppelin |\n| JupiterLite |\n| Caffe |\n| Github |\n | Excel |\n { scikit-learn| \n ",
      "metadata": {}
    },
    {
      "id": "74fa9294-8d91-4fc3-a963-f33bf0be4855",
      "cell_type": "markdown",
      "source": "### Below are a few examples of evaluating arithmetic expressions in Python",
      "metadata": {}
    },
    {
      "id": "fe8e343e-a909-490e-89d0-37821498eb20",
      "cell_type": "code",
      "source": "# This a simple arithmetic expression to mutiply then add integers\n(3*4)+5",
      "metadata": {
        "trusted": true
      },
      "outputs": [
        {
          "execution_count": 5,
          "output_type": "execute_result",
          "data": {
            "text/plain": "17"
          },
          "metadata": {}
        }
      ],
      "execution_count": 5
    },
    {
      "id": "1e6f8258-9886-4dd8-babb-9789c13d224b",
      "cell_type": "code",
      "source": "# This will convert 200 minutes to hours by diving by 60\n(200/60)",
      "metadata": {
        "trusted": true
      },
      "outputs": [
        {
          "execution_count": 7,
          "output_type": "execute_result",
          "data": {
            "text/plain": "3.3333333333333335"
          },
          "metadata": {}
        }
      ],
      "execution_count": 7
    },
    {
      "id": "91514b97-e893-4c29-8239-83162530ed8e",
      "cell_type": "markdown",
      "source": "## Author\nMatina Newa",
      "metadata": {}
    }
  ]
}