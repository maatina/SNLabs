{
  "metadata": {
    "kernelspec": {
      "name": "python",
      "display_name": "Python (Pyodide)",
      "language": "python"
    },
    "language_info": {
      "codemirror_mode": {
        "name": "python",
        "version": 3
      },
      "file_extension": ".py",
      "mimetype": "text/x-python",
      "name": "python",
      "nbconvert_exporter": "python",
      "pygments_lexer": "ipython3",
      "version": "3.8"
    }
  },
  "nbformat_minor": 5,
  "nbformat": 4,
  "cells": [
    {
      "id": "d3849ad3-ab46-4bf0-a990-d6e41909b21f",
      "cell_type": "code",
      "source": "# H1: Data Science Tools and Ecosystem",
      "metadata": {
        "trusted": true
      },
      "outputs": [],
      "execution_count": null
    },
    {
      "id": "fbce171e-e5ff-4d13-9d4c-c3cdd7ea3d2d",
      "cell_type": "markdown",
      "source": "#In this notebook, Data Science Tools and Ecosystem are summarized.",
      "metadata": {}
    },
    {
      "id": "78028a76-46fb-456b-b3c4-c8d341b80ccf",
      "cell_type": "markdown",
      "source": "**Objectives:**\n* Python\n* R\n* Sql",
      "metadata": {}
    },
    {
      "id": "851932be-2b5e-4c7f-b3f7-b8759e89637d",
      "cell_type": "code",
      "source": "",
      "metadata": {
        "trusted": true
      },
      "outputs": [],
      "execution_count": null
    },
    {
      "id": "a1fedda2-714d-4541-8ea3-96a0888681cd",
      "cell_type": "markdown",
      "source": "# Some of the popular languages that Data Scientists use are:\n1. Python\n2. R\n3. Sql",
      "metadata": {}
    },
    {
      "id": "e28f2e98-d7fe-4b38-81f7-579a5652b45d",
      "cell_type": "code",
      "source": "| Data Science Tools |\n|--------------------|\n|Jupyter Notebook    |\n| R     |\n| Jupyter Lab|",
      "metadata": {
        "trusted": true
      },
      "outputs": [],
      "execution_count": null
    },
    {
      "id": "a7eee752-f89a-4141-9fad-259b9dcbdef9",
      "cell_type": "markdown",
      "source": "# Some of the commonly used libraries used by Data Scientists include:\n1. Numpy\n2. pandas\n3. PyTorch\n4. scikit-learn\n",
      "metadata": {}
    },
    {
      "id": "74fa9294-8d91-4fc3-a963-f33bf0be4855",
      "cell_type": "markdown",
      "source": "# H3: Below are a few examples of evaluating arithmetic expressions in Python",
      "metadata": {}
    },
    {
      "id": "fe8e343e-a909-490e-89d0-37821498eb20",
      "cell_type": "code",
      "source": "(3*4)+5\n# This a simple arithmetic expression to mutiply then add integers",
      "metadata": {
        "trusted": true
      },
      "outputs": [
        {
          "execution_count": 7,
          "output_type": "execute_result",
          "data": {
            "text/plain": "17"
          },
          "metadata": {}
        }
      ],
      "execution_count": 7
    },
    {
      "id": "1e6f8258-9886-4dd8-babb-9789c13d224b",
      "cell_type": "code",
      "source": "(200/60)\n# This will convert 200 minutes to hours by diving by 60",
      "metadata": {
        "trusted": true
      },
      "outputs": [
        {
          "execution_count": 8,
          "output_type": "execute_result",
          "data": {
            "text/plain": "3.3333333333333335"
          },
          "metadata": {}
        }
      ],
      "execution_count": 8
    },
    {
      "id": "91514b97-e893-4c29-8239-83162530ed8e",
      "cell_type": "markdown",
      "source": "# H2: Author\nMatina Newa",
      "metadata": {}
    },
    {
      "id": "6fb21ba6-4d68-4b5f-926d-aa069686b82a",
      "cell_type": "code",
      "source": "",
      "metadata": {
        "trusted": true
      },
      "outputs": [],
      "execution_count": null
    }
  ]
}